{
 "cells": [
  {
   "cell_type": "markdown",
   "id": "d26075db",
   "metadata": {},
   "source": [
    "# Homework 2: Ensemble Model for Mars Terrain Segmentation\n",
    "\n",
    "## Key Features\n",
    "\n",
    "- **Architecture**: Ensemble of multiple U-Net models with custom enhancements.\n",
    "- **Data Preprocessing**: Rescale pixels, add color channel.\n",
    "- **Ensemble Models**: Combines predictions from multiple pre-trained models.\n",
    "- **Submission**: Generates a CSV file for Kaggle competition."
   ]
  },
  {
   "cell_type": "markdown",
   "id": "6118f707",
   "metadata": {
    "id": "dw_-hFm6bjY6",
    "papermill": {
     "duration": 0.007576,
     "end_time": "2024-12-03T15:06:01.000482",
     "exception": false,
     "start_time": "2024-12-03T15:06:00.992906",
     "status": "completed"
    },
    "tags": []
   },
   "source": [
    "## Check production env"
   ]
  },
  {
   "cell_type": "code",
   "execution_count": 2,
   "id": "a8dd4460",
   "metadata": {
    "execution": {
     "iopub.execute_input": "2024-12-03T15:06:01.017037Z",
     "iopub.status.busy": "2024-12-03T15:06:01.016714Z",
     "iopub.status.idle": "2024-12-03T15:06:01.024335Z",
     "shell.execute_reply": "2024-12-03T15:06:01.023664Z"
    },
    "papermill": {
     "duration": 0.017723,
     "end_time": "2024-12-03T15:06:01.025864",
     "exception": false,
     "start_time": "2024-12-03T15:06:01.008141",
     "status": "completed"
    },
    "tags": []
   },
   "outputs": [],
   "source": [
    "import os\n",
    "# Check if we are in Google Colab\n",
    "\n",
    "try:\n",
    "  import google.colab\n",
    "  IN_COLAB = True\n",
    "except:\n",
    "  IN_COLAB = False\n",
    "\n",
    "# check if we are in Kaggle\n",
    "\n",
    "IN_KAGGLE = 'KAGGLE_KERNEL_RUN_TYPE' in os.environ\n"
   ]
  },
  {
   "cell_type": "code",
   "execution_count": 3,
   "id": "ef68dacd",
   "metadata": {
    "execution": {
     "iopub.execute_input": "2024-12-03T15:06:01.042102Z",
     "iopub.status.busy": "2024-12-03T15:06:01.041801Z",
     "iopub.status.idle": "2024-12-03T15:06:01.045966Z",
     "shell.execute_reply": "2024-12-03T15:06:01.045270Z"
    },
    "id": "y2S4GWr3Uoa8",
    "papermill": {
     "duration": 0.014027,
     "end_time": "2024-12-03T15:06:01.047464",
     "exception": false,
     "start_time": "2024-12-03T15:06:01.033437",
     "status": "completed"
    },
    "tags": []
   },
   "outputs": [],
   "source": [
    "if IN_COLAB:\n",
    "    from google.colab import drive\n",
    "\n",
    "    drive.mount(\"/gdrive\")\n",
    "    %cd /gdrive/My Drive/[2024-2025] AN2DL/Homework 2"
   ]
  },
  {
   "cell_type": "markdown",
   "id": "72e5a1f6",
   "metadata": {
    "id": "d7IqZP5Iblna",
    "papermill": {
     "duration": 0.007358,
     "end_time": "2024-12-03T15:06:01.062443",
     "exception": false,
     "start_time": "2024-12-03T15:06:01.055085",
     "status": "completed"
    },
    "tags": []
   },
   "source": [
    "## ⚙️ Import Libraries"
   ]
  },
  {
   "cell_type": "code",
   "execution_count": 4,
   "id": "7e64472a",
   "metadata": {
    "execution": {
     "iopub.execute_input": "2024-12-03T15:06:01.079078Z",
     "iopub.status.busy": "2024-12-03T15:06:01.078734Z",
     "iopub.status.idle": "2024-12-03T15:06:10.437831Z",
     "shell.execute_reply": "2024-12-03T15:06:10.436906Z"
    },
    "papermill": {
     "duration": 9.369906,
     "end_time": "2024-12-03T15:06:10.439979",
     "exception": false,
     "start_time": "2024-12-03T15:06:01.070073",
     "status": "completed"
    },
    "tags": []
   },
   "outputs": [],
   "source": [
    "# Install albumentations\n",
    "!pip install -q -U albumentations"
   ]
  },
  {
   "cell_type": "code",
   "execution_count": 5,
   "id": "bcfda430",
   "metadata": {
    "execution": {
     "iopub.execute_input": "2024-12-03T15:06:10.457498Z",
     "iopub.status.busy": "2024-12-03T15:06:10.457180Z",
     "iopub.status.idle": "2024-12-03T15:06:28.151425Z",
     "shell.execute_reply": "2024-12-03T15:06:28.150479Z"
    },
    "id": "CO6_Ft_8T56A",
    "papermill": {
     "duration": 17.705243,
     "end_time": "2024-12-03T15:06:28.153353",
     "exception": false,
     "start_time": "2024-12-03T15:06:10.448110",
     "status": "completed"
    },
    "tags": []
   },
   "outputs": [
    {
     "name": "stderr",
     "output_type": "stream",
     "text": [
      "2024-12-10 17:05:56.628130: E external/local_xla/xla/stream_executor/cuda/cuda_fft.cc:477] Unable to register cuFFT factory: Attempting to register factory for plugin cuFFT when one has already been registered\n",
      "WARNING: All log messages before absl::InitializeLog() is called are written to STDERR\n",
      "E0000 00:00:1733846756.679815   55546 cuda_dnn.cc:8310] Unable to register cuDNN factory: Attempting to register factory for plugin cuDNN when one has already been registered\n",
      "E0000 00:00:1733846756.695684   55546 cuda_blas.cc:1418] Unable to register cuBLAS factory: Attempting to register factory for plugin cuBLAS when one has already been registered\n",
      "2024-12-10 17:05:56.821116: I tensorflow/core/platform/cpu_feature_guard.cc:210] This TensorFlow binary is optimized to use available CPU instructions in performance-critical operations.\n",
      "To enable the following instructions: AVX2 FMA, in other operations, rebuild TensorFlow with the appropriate compiler flags.\n",
      "/home/sam/prog/an2dl/venv/lib/python3.10/site-packages/tqdm/auto.py:21: TqdmWarning: IProgress not found. Please update jupyter and ipywidgets. See https://ipywidgets.readthedocs.io/en/stable/user_install.html\n",
      "  from .autonotebook import tqdm as notebook_tqdm\n"
     ]
    },
    {
     "name": "stdout",
     "output_type": "stream",
     "text": [
      "TensorFlow version: 2.18.0\n",
      "Keras version: 3.7.0\n",
      "GPU devices: 0\n"
     ]
    },
    {
     "name": "stderr",
     "output_type": "stream",
     "text": [
      "W0000 00:00:1733846762.055855   55546 gpu_device.cc:2344] Cannot dlopen some GPU libraries. Please make sure the missing libraries mentioned above are installed properly if you would like to use GPU. Follow the guide at https://www.tensorflow.org/install/gpu for how to download and setup the required libraries for your platform.\n",
      "Skipping registering GPU devices...\n"
     ]
    }
   ],
   "source": [
    "SAVE_IMAGES = False\n",
    "\n",
    "seed = 42\n",
    "\n",
    "import re, time\n",
    "from datetime import datetime\n",
    "import random\n",
    "\n",
    "import numpy as np\n",
    "import pandas as pd\n",
    "\n",
    "import tensorflow as tf\n",
    "from tensorflow import keras as tfk\n",
    "from tensorflow.keras import layers as tfkl\n",
    "import albumentations as A\n",
    "import tqdm as notebook_tqdm\n",
    "\n",
    "import keras_cv\n",
    "\n",
    "import matplotlib.pyplot as plt\n",
    "%matplotlib inline\n",
    "\n",
    "np.random.seed(seed)\n",
    "tf.random.set_seed(seed)\n",
    "random.seed(seed)\n",
    "\n",
    "print(f\"TensorFlow version: {tf.__version__}\")\n",
    "print(f\"Keras version: {tfk.__version__}\")\n",
    "print(f\"GPU devices: {len(tf.config.list_physical_devices('GPU'))}\")"
   ]
  },
  {
   "cell_type": "markdown",
   "id": "25babe14",
   "metadata": {
    "id": "GN_cpHlSboXV",
    "papermill": {
     "duration": 0.007467,
     "end_time": "2024-12-03T15:06:28.194017",
     "exception": false,
     "start_time": "2024-12-03T15:06:28.186550",
     "status": "completed"
    },
    "tags": []
   },
   "source": [
    "## ⏳ Load the Data"
   ]
  },
  {
   "cell_type": "code",
   "execution_count": 6,
   "id": "86ae804b",
   "metadata": {
    "execution": {
     "iopub.execute_input": "2024-12-03T15:06:28.210280Z",
     "iopub.status.busy": "2024-12-03T15:06:28.210037Z",
     "iopub.status.idle": "2024-12-03T15:06:30.536893Z",
     "shell.execute_reply": "2024-12-03T15:06:30.535943Z"
    },
    "id": "pLaoDaG1V1Yg",
    "papermill": {
     "duration": 2.337044,
     "end_time": "2024-12-03T15:06:30.538546",
     "exception": false,
     "start_time": "2024-12-03T15:06:28.201502",
     "status": "completed"
    },
    "tags": []
   },
   "outputs": [
    {
     "name": "stdout",
     "output_type": "stream",
     "text": [
      "Training X shape: (2615, 64, 128)\n",
      "Training y shape: (2615, 64, 128)\n",
      "Test X shape: (10022, 64, 128)\n"
     ]
    }
   ],
   "source": [
    "if IN_KAGGLE:\n",
    "    data = np.load('/kaggle/input/mars-homework-2/mars_for_students.npz')\n",
    "else:\n",
    "    data = np.load(\"../mars_for_students.npz\") #remember to change the path accordingly to your folder\n",
    "\n",
    "training_set = data[\"training_set\"]\n",
    "X_train = training_set[:, 0]\n",
    "y_train = training_set[:, 1]\n",
    "\n",
    "X_test = data[\"test_set\"]\n",
    "\n",
    "print(f\"Training X shape: {X_train.shape}\")\n",
    "print(f\"Training y shape: {y_train.shape}\")\n",
    "print(f\"Test X shape: {X_test.shape}\")"
   ]
  },
  {
   "cell_type": "code",
   "execution_count": null,
   "id": "f6cc248d",
   "metadata": {
    "execution": {
     "iopub.execute_input": "2024-12-03T15:06:30.555597Z",
     "iopub.status.busy": "2024-12-03T15:06:30.555294Z",
     "iopub.status.idle": "2024-12-03T15:06:30.559501Z",
     "shell.execute_reply": "2024-12-03T15:06:30.558662Z"
    },
    "papermill": {
     "duration": 0.014519,
     "end_time": "2024-12-03T15:06:30.561062",
     "exception": false,
     "start_time": "2024-12-03T15:06:30.546543",
     "status": "completed"
    },
    "tags": []
   },
   "outputs": [],
   "source": [
    "# Set the number of classes\n",
    "NUM_CLASSES = 5"
   ]
  },
  {
   "cell_type": "markdown",
   "id": "fd608408",
   "metadata": {
    "papermill": {
     "duration": 0.007559,
     "end_time": "2024-12-03T15:06:30.576397",
     "exception": false,
     "start_time": "2024-12-03T15:06:30.568838",
     "status": "completed"
    },
    "tags": []
   },
   "source": [
    "# 🏋🏻‍♂️ Data preprocessing"
   ]
  },
  {
   "cell_type": "code",
   "execution_count": 8,
   "id": "7c8dcab3",
   "metadata": {
    "execution": {
     "iopub.execute_input": "2024-12-03T15:06:30.592879Z",
     "iopub.status.busy": "2024-12-03T15:06:30.592552Z",
     "iopub.status.idle": "2024-12-03T15:06:31.435970Z",
     "shell.execute_reply": "2024-12-03T15:06:31.435062Z"
    },
    "id": "VmnTgJi_OOs1",
    "papermill": {
     "duration": 0.853722,
     "end_time": "2024-12-03T15:06:31.437833",
     "exception": false,
     "start_time": "2024-12-03T15:06:30.584111",
     "status": "completed"
    },
    "tags": []
   },
   "outputs": [
    {
     "name": "stdout",
     "output_type": "stream",
     "text": [
      "Input shape: (64, 128, 1)\n",
      "Number of classes: 5\n"
     ]
    }
   ],
   "source": [
    "# Add color channel and rescale pixels between 0 and 1\n",
    "X_train = X_train[..., np.newaxis] / 255.0\n",
    "X_test = X_test[..., np.newaxis] / 255.0\n",
    "\n",
    "input_shape = X_train.shape[1:]\n",
    "num_classes = len(np.unique(y_train))\n",
    "\n",
    "print(f\"Input shape: {input_shape}\")\n",
    "print(f\"Number of classes: {num_classes}\")"
   ]
  },
  {
   "cell_type": "code",
   "execution_count": 14,
   "id": "1c63a8f9",
   "metadata": {},
   "outputs": [],
   "source": [
    "# Define custom Mean Intersection Over Union metric\n",
    "class MeanIntersectionOverUnion(tf.keras.metrics.MeanIoU):\n",
    "    def __init__(self, num_classes, labels_to_exclude=None, name=\"mean_iou\", dtype=None):\n",
    "        super(MeanIntersectionOverUnion, self).__init__(num_classes=num_classes, name=name, dtype=dtype)\n",
    "        if labels_to_exclude is None:\n",
    "            labels_to_exclude = [0]  # Default to excluding label 0\n",
    "        self.labels_to_exclude = labels_to_exclude\n",
    "\n",
    "    def update_state(self, y_true, y_pred, sample_weight=None):\n",
    "        # Convert predictions to class labels\n",
    "        y_pred = tf.math.argmax(y_pred, axis=-1)\n",
    "\n",
    "        # Flatten the tensors\n",
    "        y_true = tf.reshape(y_true, [-1])\n",
    "        y_pred = tf.reshape(y_pred, [-1])\n",
    "\n",
    "        # Apply mask to exclude specified labels\n",
    "        for label in self.labels_to_exclude:\n",
    "            mask = tf.not_equal(y_true, label)\n",
    "            y_true = tf.boolean_mask(y_true, mask)\n",
    "            y_pred = tf.boolean_mask(y_pred, mask)\n",
    "\n",
    "        # Update the state\n",
    "        return super().update_state(y_true, y_pred, sample_weight)"
   ]
  },
  {
   "cell_type": "markdown",
   "id": "08d0575c",
   "metadata": {
    "id": "RNp6pUZuddqC",
    "papermill": {
     "duration": 0.334319,
     "end_time": "2024-12-03T15:13:41.749719",
     "exception": false,
     "start_time": "2024-12-03T15:13:41.415400",
     "status": "completed"
    },
    "tags": []
   },
   "source": [
    "## 📊 Prepare Your Submission\n",
    "\n",
    "In our Kaggle competition, submissions are made as `csv` files. To create a proper `csv` file, you need to flatten your predictions and include an `id` column as the first column of your dataframe. To maintain consistency between your results and our solution, please avoid shuffling the test set. The code below demonstrates how to prepare the `csv` file from your model predictions.\n",
    "\n",
    "\n"
   ]
  },
  {
   "cell_type": "code",
   "execution_count": null,
   "id": "72a10b04",
   "metadata": {
    "execution": {
     "iopub.execute_input": "2024-12-03T15:13:43.129510Z",
     "iopub.status.busy": "2024-12-03T15:13:43.128380Z",
     "iopub.status.idle": "2024-12-03T15:13:43.541848Z",
     "shell.execute_reply": "2024-12-03T15:13:43.540785Z"
    },
    "papermill": {
     "duration": 0.78485,
     "end_time": "2024-12-03T15:13:43.543526",
     "exception": false,
     "start_time": "2024-12-03T15:13:42.758676",
     "status": "completed"
    },
    "tags": []
   },
   "outputs": [
    {
     "name": "stdout",
     "output_type": "stream",
     "text": [
      "Loading model from model_241203_151340.keras\n",
      "Model loaded from model_241203_151340.keras\n",
      "Loading model from model_241208_124742.keras\n",
      "Model loaded from model_241208_124742.keras\n"
     ]
    }
   ],
   "source": [
    "model_filenames = [\n",
    "    \"/kaggle/input/ensemble-model/model_241203_151340.keras\",   # 0.666 con augmix\n",
    "                                                                # https://www.kaggle.com/code/samuelepozzani/homework2-classweights-augs\n",
    "    \"/kaggle/input/ensemble-model/model_241208_124742.keras\",   # dice + boundary + crossentropy\n",
    "                                                                # https://www.kaggle.com/code/samuelepozzani/homework2-classweights-augs-4\n",
    "    \"/kaggle/input/ensemble-model/model_241211_092055.keras\",   # residual fusion \n",
    "                                                                # https://www.kaggle.com/code/mmartini00/homework-2-aug-classw-residual-fusion-redlr\n",
    "]\n",
    "\n",
    "models = []\n",
    "\n",
    "for name in model_filenames:\n",
    "    print(f\"Loading model from {name}\")\n",
    "    model = tfk.models.load_model(name, compile=False)\n",
    "    model.compile(metrics=[\"accuracy\", MeanIntersectionOverUnion(num_classes=NUM_CLASSES, labels_to_exclude=[0])])\n",
    "    models.append(model)\n",
    "    print(f\"Model loaded from {name}\")\n"
   ]
  },
  {
   "cell_type": "code",
   "execution_count": null,
   "id": "7261b8e5",
   "metadata": {
    "execution": {
     "iopub.execute_input": "2024-12-03T15:13:51.420026Z",
     "iopub.status.busy": "2024-12-03T15:13:51.419333Z",
     "iopub.status.idle": "2024-12-03T15:13:58.714426Z",
     "shell.execute_reply": "2024-12-03T15:13:58.713381Z"
    },
    "id": "z287uIQ_VGoK",
    "papermill": {
     "duration": 7.636278,
     "end_time": "2024-12-03T15:13:58.716201",
     "exception": false,
     "start_time": "2024-12-03T15:13:51.079923",
     "status": "completed"
    },
    "tags": []
   },
   "outputs": [
    {
     "name": "stdout",
     "output_type": "stream",
     "text": [
      "\u001b[1m1/1\u001b[0m \u001b[32m━━━━━━━━━━━━━━━━━━━━\u001b[0m\u001b[37m\u001b[0m \u001b[1m0s\u001b[0m 401ms/step\n",
      "\u001b[1m1/1\u001b[0m \u001b[32m━━━━━━━━━━━━━━━━━━━━\u001b[0m\u001b[37m\u001b[0m \u001b[1m0s\u001b[0m 470ms/step\n",
      "Predictions shape: (10, 64, 128)\n"
     ]
    }
   ],
   "source": [
    "# Ensemble model predictions\n",
    "preds = np.mean([model.predict(X_test) for model in models], axis=0)\n",
    "preds = np.argmax(preds, axis=-1)\n",
    "print(f\"Predictions shape: {preds.shape}\")"
   ]
  },
  {
   "cell_type": "code",
   "execution_count": 26,
   "id": "b26e82c4",
   "metadata": {
    "execution": {
     "iopub.execute_input": "2024-12-03T15:13:59.417186Z",
     "iopub.status.busy": "2024-12-03T15:13:59.416255Z",
     "iopub.status.idle": "2024-12-03T15:13:59.421581Z",
     "shell.execute_reply": "2024-12-03T15:13:59.420731Z"
    },
    "id": "SPjMEKqZW5jX",
    "papermill": {
     "duration": 0.375639,
     "end_time": "2024-12-03T15:13:59.423361",
     "exception": false,
     "start_time": "2024-12-03T15:13:59.047722",
     "status": "completed"
    },
    "tags": []
   },
   "outputs": [],
   "source": [
    "def y_to_df(y) -> pd.DataFrame:\n",
    "    \"\"\"Converts segmentation predictions into a DataFrame format for Kaggle.\"\"\"\n",
    "    n_samples = len(y)\n",
    "    y_flat = y.reshape(n_samples, -1)\n",
    "    df = pd.DataFrame(y_flat)\n",
    "    df[\"id\"] = np.arange(n_samples)\n",
    "    cols = [\"id\"] + [col for col in df.columns if col != \"id\"]\n",
    "    return df[cols]"
   ]
  },
  {
   "cell_type": "code",
   "execution_count": 27,
   "id": "20d5f0f7",
   "metadata": {
    "execution": {
     "iopub.execute_input": "2024-12-03T15:14:00.080521Z",
     "iopub.status.busy": "2024-12-03T15:14:00.079612Z",
     "iopub.status.idle": "2024-12-03T15:14:22.196227Z",
     "shell.execute_reply": "2024-12-03T15:14:22.195347Z"
    },
    "id": "s18kX1uDconq",
    "papermill": {
     "duration": 22.446382,
     "end_time": "2024-12-03T15:14:22.198293",
     "exception": false,
     "start_time": "2024-12-03T15:13:59.751911",
     "status": "completed"
    },
    "tags": []
   },
   "outputs": [],
   "source": [
    "# Create and download the csv submission file\n",
    "timestep_str = datetime.now().strftime(\"%y%m%d_%H%M%S\")\n",
    "submission_filename = f\"submission_{timestep_str}.csv\"\n",
    "submission_df = y_to_df(preds)\n",
    "submission_df.to_csv(submission_filename, index=False)\n",
    "\n",
    "if IN_COLAB:\n",
    "    from google.colab import files\n",
    "    files.download(submission_filename)"
   ]
  }
 ],
 "metadata": {
  "colab": {
   "provenance": []
  },
  "kaggle": {
   "accelerator": "nvidiaTeslaT4",
   "dataSources": [
    {
     "datasetId": 6190662,
     "sourceId": 10048183,
     "sourceType": "datasetVersion"
    }
   ],
   "dockerImageVersionId": 30805,
   "isGpuEnabled": true,
   "isInternetEnabled": true,
   "language": "python",
   "sourceType": "notebook"
  },
  "kernelspec": {
   "display_name": "venv",
   "language": "python",
   "name": "python3"
  },
  "language_info": {
   "codemirror_mode": {
    "name": "ipython",
    "version": 3
   },
   "file_extension": ".py",
   "mimetype": "text/x-python",
   "name": "python",
   "nbconvert_exporter": "python",
   "pygments_lexer": "ipython3",
   "version": "3.10.12"
  },
  "papermill": {
   "default_parameters": {},
   "duration": 507.032199,
   "end_time": "2024-12-03T15:14:25.595237",
   "environment_variables": {},
   "exception": null,
   "input_path": "__notebook__.ipynb",
   "output_path": "__notebook__.ipynb",
   "parameters": {},
   "start_time": "2024-12-03T15:05:58.563038",
   "version": "2.6.0"
  }
 },
 "nbformat": 4,
 "nbformat_minor": 5
}
